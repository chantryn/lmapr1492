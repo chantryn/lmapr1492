{
 "cells": [
  {
   "cell_type": "code",
   "execution_count": 26,
   "metadata": {},
   "outputs": [
    {
     "name": "stdout",
     "output_type": "stream",
     "text": [
      "Téléchargement du dossier cif\n"
     ]
    }
   ],
   "source": [
    "from pymatgen.ext.matproj import MPRester\n",
    "from pymatgen.io.cif import CifWriter\n",
    "from pymatgen import Lattice as lattice\n",
    "from pymatgen.symmetry.analyzer import SpacegroupAnalyzer\n",
    "from pprint import pprint\n",
    "\n",
    "print('Téléchargement du dossier cif')\n",
    "with MPRester(\"MioTRFvNPal5mnDV\") as m:\n",
    "    structure = m.get_structure_by_material_id(\"mp-754777\")\n",
    "    w = CifWriter(structure)\n",
    "    w.write_file('mystructure2.cif')"
   ]
  },
  {
   "cell_type": "code",
   "execution_count": 25,
   "metadata": {},
   "outputs": [
    {
     "name": "stdout",
     "output_type": "stream",
     "text": [
      "Caractérisation du réseau direct et des vecteurs de base\n",
      "[{'material_id': 'mp-754777',\n",
      "  'structure': Structure Summary\n",
      "Lattice\n",
      "    abc : 3.681859384859139 6.003606465028714 3.6818592785756676\n",
      " angles : 107.8566949561162 60.00000872292542 107.85670418549053\n",
      " volume : 65.91583983220816\n",
      "      A : 0.99414705 -3.54510369 0.0\n",
      "      B : 5.00342043 3.31504641 -0.1397923\n",
      "      C : 0.0 -1.91194472 3.14651476\n",
      "PeriodicSite: Na (0.0000, 0.0000, 0.0000) [0.0000, 0.0000, 0.0000]\n",
      "PeriodicSite: La (2.9988, -1.0710, 1.5034) [0.5000, 0.5000, 0.5000]\n",
      "PeriodicSite: O (2.1772, -3.2133, 2.3557) [0.7613, 0.2839, 0.7613]\n",
      "PeriodicSite: O (3.8204, 1.0713, 0.6510) [0.2387, 0.7161, 0.2387]}]\n",
      "_________________________________\n",
      "Vecteurs de base : coordonnées\n",
      "0.994147 -3.545104 0.000000\n",
      "5.003420 3.315046 -0.139792\n",
      "0.000000 -1.911945 3.146515\n",
      "_________________________________\n",
      "Vecteurs de base : longueurs\n",
      "a = 3.681859384859139\n",
      "b = 6.003606465028714\n",
      "b = 3.6818592785756676\n",
      "_________________________________\n",
      "Vecteurs de base : angles\n",
      "a = 107.8566949561162\n",
      "b = 60.00000872292542\n",
      "b = 107.85670418549053\n",
      "_________________________________\n",
      "_________________________________\n"
     ]
    }
   ],
   "source": [
    "print('Caractérisation du réseau direct et des vecteurs de base')\n",
    "pprint(m.get_data(\"mp-754777\", prop=\"structure\"))\n",
    "print('_________________________________')\n",
    "print('Vecteurs de base : coordonnées')\n",
    "print(structure.lattice)\n",
    "print('_________________________________')\n",
    "print('Vecteurs de base : longueurs')\n",
    "print('a =', structure.lattice.lengths[0])\n",
    "print('b =', structure.lattice.lengths[1])\n",
    "print('b =', structure.lattice.lengths[2])\n",
    "print('_________________________________')\n",
    "print('Vecteurs de base : angles')\n",
    "print('a =', structure.lattice.angles[0])\n",
    "print('b =', structure.lattice.angles[1])\n",
    "print('b =', structure.lattice.angles[2])\n",
    "print('_________________________________')\n",
    "print('_________________________________')"
   ]
  },
  {
   "cell_type": "code",
   "execution_count": 19,
   "metadata": {},
   "outputs": [
    {
     "name": "stdout",
     "output_type": "stream",
     "text": [
      "Caractérisation du réseau réciproque et des vecteurs de base\n",
      "Lattice\n",
      "    abc : 1.9990057031412196 1.99900570314122 1.9990057031412194\n",
      " angles : 63.752688524693745 63.752688524693745 63.752688524693745\n",
      " volume : 6.11619904093119\n",
      "      A : 1.7928952102687161 0.8840534860440392 0.0\n",
      "      B : 0.0 1.99900570314122 0.0\n",
      "      C : 0.5497685467906186 0.8840534860440391 1.7065250598699788\n",
      "_________________________________\n",
      "Vecteurs de base : coordonnées\n",
      "0.968805 -1.500676 -0.911869\n",
      "1.063283 0.298174 0.181182\n",
      "0.047239 0.013247 2.004921\n",
      "_________________________________\n",
      "Vecteurs de base : longueurs\n",
      "a = 1.9990057031412196\n",
      "b = 1.99900570314122\n",
      "b = 1.9990057031412194\n",
      "_________________________________\n",
      "a = 63.752688524693745\n",
      "b = 63.752688524693745\n",
      "b = 63.752688524693745\n",
      "_________________________________\n",
      "_________________________________\n"
     ]
    }
   ],
   "source": [
    "print('Caractérisation du réseau réciproque et des vecteurs de base')\n",
    "reseau = lattice.rhombohedral(structure.lattice.lengths[0],structure.lattice.angles[0])\n",
    "reseaur = reseau.reciprocal_lattice\n",
    "pprint(reseaur)\n",
    "print('_________________________________')\n",
    "print('Vecteurs de base : coordonnées')\n",
    "print(structure.lattice.reciprocal_lattice)\n",
    "print('_________________________________')\n",
    "print('Vecteurs de base : longueurs')\n",
    "print('a =', reseaur.lengths[0])\n",
    "print('b =', reseaur.lengths[1])\n",
    "print('b =', reseaur.lengths[2])\n",
    "print('_________________________________')\n",
    "print('a =', reseaur.angles[0])\n",
    "print('b =', reseaur.angles[1])\n",
    "print('b =', reseaur.angles[2])\n",
    "print('_________________________________')\n",
    "print('_________________________________')"
   ]
  },
  {
   "cell_type": "code",
   "execution_count": 4,
   "metadata": {},
   "outputs": [
    {
     "name": "stdout",
     "output_type": "stream",
     "text": [
      "Type de maille\n",
      "'rhombohedral'\n",
      "_________________________________\n",
      "_________________________________\n"
     ]
    }
   ],
   "source": [
    "print('Type de maille')\n",
    "spacegroupa = (SpacegroupAnalyzer(structure))\n",
    "pprint(spacegroupa.get_lattice_type())\n",
    "print('_________________________________')\n",
    "print('_________________________________')"
   ]
  },
  {
   "cell_type": "code",
   "execution_count": 17,
   "metadata": {},
   "outputs": [
    {
     "name": "stdout",
     "output_type": "stream",
     "text": [
      "Système cristallin\n",
      "'trigonal'\n",
      "_________________________________\n",
      "_________________________________\n"
     ]
    }
   ],
   "source": [
    "print('Système cristallin')\n",
    "pprint(spacegroupa.get_crystal_system())\n",
    "print('_________________________________')\n",
    "print('_________________________________')"
   ]
  },
  {
   "cell_type": "code",
   "execution_count": 12,
   "metadata": {},
   "outputs": [
    {
     "name": "stdout",
     "output_type": "stream",
     "text": [
      "Groupe ponctuel\n",
      "[{'spacegroup.point_group': '-3m'}]\n"
     ]
    }
   ],
   "source": [
    "print('Groupe ponctuel')\n",
    "group = m.query(criteria={\"task_id\":{\"$in\":[\"mp-754777\"]}}, properties=[\"spacegroup.point_group\"])\n",
    "print(group)"
   ]
  },
  {
   "cell_type": "code",
   "execution_count": null,
   "metadata": {},
   "outputs": [],
   "source": []
  }
 ],
 "metadata": {
  "kernelspec": {
   "display_name": "Python 3",
   "language": "python",
   "name": "python3"
  },
  "language_info": {
   "codemirror_mode": {
    "name": "ipython",
    "version": 3
   },
   "file_extension": ".py",
   "mimetype": "text/x-python",
   "name": "python",
   "nbconvert_exporter": "python",
   "pygments_lexer": "ipython3",
   "version": "3.6.8"
  }
 },
 "nbformat": 4,
 "nbformat_minor": 2
}
