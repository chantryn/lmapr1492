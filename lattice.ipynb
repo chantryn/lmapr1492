{
 "cells": [
  {
   "cell_type": "code",
   "execution_count": 30,
   "metadata": {},
   "outputs": [
    {
     "name": "stdout",
     "output_type": "stream",
     "text": [
      "Téléchargement du dossier cif\n"
     ]
    }
   ],
   "source": [
    "from pymatgen.ext.matproj import MPRester\n",
    "from pymatgen.io.cif import CifWriter\n",
    "from pymatgen import Lattice as lattice\n",
    "from pymatgen.symmetry.analyzer import SpacegroupAnalyzer\n",
    "from pprint import pprint\n",
    "\n",
    "print('Téléchargement du dossier cif')\n",
    "with MPRester(\"MioTRFvNPal5mnDV\") as m:\n",
    "    structure = m.get_structure_by_material_id(\"mp-754777\")\n",
    "    structure2 = SpacegroupAnalyzer(structure).get_primitive_standard_structure()\n",
    "    w = CifWriter(structure2)\n",
    "    w.write_file('mystructure2.cif')"
   ]
  },
  {
   "cell_type": "code",
   "execution_count": 33,
   "metadata": {},
   "outputs": [
    {
     "name": "stdout",
     "output_type": "stream",
     "text": [
      "Caractérisation du réseau direct et des vecteurs de base\n",
      "Vecteurs de base : coordonnées\n",
      "5.714391 -1.840930 0.000000\n",
      "5.714391 1.840930 0.000000\n",
      "5.121323 0.000000 3.132944\n",
      "_________________________________\n",
      "Vecteurs de base : longueurs\n",
      "a = 6.003606238893593\n",
      "b = 6.003606238893593\n",
      "b = 6.003606238893593\n",
      "_________________________________\n",
      "Vecteurs de base : angles\n",
      "a = 35.71339106314743\n",
      "b = 35.71339106314743\n",
      "b = 35.71339106314741\n",
      "_________________________________\n",
      "_________________________________\n"
     ]
    }
   ],
   "source": [
    "print('Caractérisation du réseau direct et des vecteurs de base')\n",
    "print('Vecteurs de base : coordonnées')\n",
    "print(structure2.lattice)\n",
    "print('_________________________________')\n",
    "print('Vecteurs de base : longueurs')\n",
    "print('a =', structure2.lattice.lengths[0])\n",
    "print('b =', structure2.lattice.lengths[1])\n",
    "print('b =', structure2.lattice.lengths[2])\n",
    "print('_________________________________')\n",
    "print('Vecteurs de base : angles')\n",
    "print('a =', structure2.lattice.angles[0])\n",
    "print('b =', structure2.lattice.angles[1])\n",
    "print('b =', structure2.lattice.angles[2])\n",
    "print('_________________________________')\n",
    "print('_________________________________')"
   ]
  },
  {
   "cell_type": "code",
   "execution_count": 19,
   "metadata": {},
   "outputs": [
    {
     "name": "stdout",
     "output_type": "stream",
     "text": [
      "Caractérisation du réseau réciproque et des vecteurs de base\n",
      "Lattice\n",
      "    abc : 1.9990057031412196 1.99900570314122 1.9990057031412194\n",
      " angles : 63.752688524693745 63.752688524693745 63.752688524693745\n",
      " volume : 6.11619904093119\n",
      "      A : 1.7928952102687161 0.8840534860440392 0.0\n",
      "      B : 0.0 1.99900570314122 0.0\n",
      "      C : 0.5497685467906186 0.8840534860440391 1.7065250598699788\n",
      "_________________________________\n",
      "Vecteurs de base : coordonnées\n",
      "0.968805 -1.500676 -0.911869\n",
      "1.063283 0.298174 0.181182\n",
      "0.047239 0.013247 2.004921\n",
      "_________________________________\n",
      "Vecteurs de base : longueurs\n",
      "a = 1.9990057031412196\n",
      "b = 1.99900570314122\n",
      "b = 1.9990057031412194\n",
      "_________________________________\n",
      "a = 63.752688524693745\n",
      "b = 63.752688524693745\n",
      "b = 63.752688524693745\n",
      "_________________________________\n",
      "_________________________________\n"
     ]
    }
   ],
   "source": [
    "print('Caractérisation du réseau réciproque et des vecteurs de base')\n",
    "reseau = lattice.rhombohedral(structure.lattice.lengths[0],structure.lattice.angles[0])\n",
    "reseaur = reseau.reciprocal_lattice\n",
    "pprint(reseaur)\n",
    "print('_________________________________')\n",
    "print('Vecteurs de base : coordonnées')\n",
    "print(structure.lattice.reciprocal_lattice)\n",
    "print('_________________________________')\n",
    "print('Vecteurs de base : longueurs')\n",
    "print('a =', reseaur.lengths[0])\n",
    "print('b =', reseaur.lengths[1])\n",
    "print('b =', reseaur.lengths[2])\n",
    "print('_________________________________')\n",
    "print('a =', reseaur.angles[0])\n",
    "print('b =', reseaur.angles[1])\n",
    "print('b =', reseaur.angles[2])\n",
    "print('_________________________________')\n",
    "print('_________________________________')"
   ]
  },
  {
   "cell_type": "code",
   "execution_count": 4,
   "metadata": {},
   "outputs": [
    {
     "name": "stdout",
     "output_type": "stream",
     "text": [
      "Type de maille\n",
      "'rhombohedral'\n",
      "_________________________________\n",
      "_________________________________\n"
     ]
    }
   ],
   "source": [
    "print('Type de maille')\n",
    "spacegroupa = (SpacegroupAnalyzer(structure))\n",
    "pprint(spacegroupa.get_lattice_type())\n",
    "print('_________________________________')\n",
    "print('_________________________________')"
   ]
  },
  {
   "cell_type": "code",
   "execution_count": 17,
   "metadata": {},
   "outputs": [
    {
     "name": "stdout",
     "output_type": "stream",
     "text": [
      "Système cristallin\n",
      "'trigonal'\n",
      "_________________________________\n",
      "_________________________________\n"
     ]
    }
   ],
   "source": [
    "print('Système cristallin')\n",
    "pprint(spacegroupa.get_crystal_system())\n",
    "print('_________________________________')\n",
    "print('_________________________________')"
   ]
  },
  {
   "cell_type": "code",
   "execution_count": 12,
   "metadata": {},
   "outputs": [
    {
     "name": "stdout",
     "output_type": "stream",
     "text": [
      "Groupe ponctuel\n",
      "[{'spacegroup.point_group': '-3m'}]\n"
     ]
    }
   ],
   "source": [
    "print('Groupe ponctuel')\n",
    "group = m.query(criteria={\"task_id\":{\"$in\":[\"mp-754777\"]}}, properties=[\"spacegroup.point_group\"])\n",
    "print(group)"
   ]
  },
  {
   "cell_type": "code",
   "execution_count": null,
   "metadata": {},
   "outputs": [],
   "source": []
  }
 ],
 "metadata": {
  "kernelspec": {
   "display_name": "Python 3",
   "language": "python",
   "name": "python3"
  },
  "language_info": {
   "codemirror_mode": {
    "name": "ipython",
    "version": 3
   },
   "file_extension": ".py",
   "mimetype": "text/x-python",
   "name": "python",
   "nbconvert_exporter": "python",
   "pygments_lexer": "ipython3",
   "version": "3.6.8"
  }
 },
 "nbformat": 4,
 "nbformat_minor": 2
}
