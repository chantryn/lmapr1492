{
 "cells": [
  {
   "cell_type": "code",
   "execution_count": 2,
   "metadata": {},
   "outputs": [
    {
     "data": {
      "text/markdown": [
       "**Téléchargement du dossier cif**"
      ],
      "text/plain": [
       "<IPython.core.display.Markdown object>"
      ]
     },
     "metadata": {},
     "output_type": "display_data"
    }
   ],
   "source": [
    "from pymatgen.ext.matproj import MPRester\n",
    "from pymatgen.io.cif import CifWriter\n",
    "from pymatgen import Lattice as lattice\n",
    "from pymatgen.symmetry.analyzer import SpacegroupAnalyzer\n",
    "from pprint import pprint\n",
    "from pymatgen.core.operations import SymmOp\n",
    "from IPython.display import Markdown,display\n",
    "def printgras(string):\n",
    "    display(Markdown(string))\n",
    "\n",
    "printgras('**Téléchargement du dossier cif**')\n",
    "with MPRester(\"MioTRFvNPal5mnDV\") as m:\n",
    "    structure = m.get_structure_by_material_id(\"mp-754777\")\n",
    "    structure2 = SpacegroupAnalyzer(structure).get_primitive_standard_structure()\n",
    "    w = CifWriter(structure2)\n",
    "    w.write_file('mystructure3.cif')"
   ]
  },
  {
   "cell_type": "code",
   "execution_count": 12,
   "metadata": {
    "scrolled": true
   },
   "outputs": [
    {
     "data": {
      "text/markdown": [
       "**Opériation de symétrie : plan miroir défini par (-y,-x,z)**"
      ],
      "text/plain": [
       "<IPython.core.display.Markdown object>"
      ]
     },
     "metadata": {},
     "output_type": "display_data"
    },
    {
     "name": "stdout",
     "output_type": "stream",
     "text": [
      "Matrice de l'opération de symétrie\n",
      "[[ 0. -1.  0.]\n",
      " [-1.  0.  0.]\n",
      " [ 0.  0.  1.]]\n",
      "Application de la matrice à un atome de coordonnées (x,y,z)\n"
     ]
    }
   ],
   "source": [
    "printgras('**Opériation de symétrie : plan miroir défini par (-y,-x,z)**')\n",
    "print(\"Matrice de l'opération de symétrie\")\n",
    "m1 = SymmOp.from_xyz_string('-y,-x,z')\n",
    "print(m1.rotation_matrix)\n",
    "print('Application de la matrice à un atome de coordonnées (x,y,z)')"
   ]
  },
  {
   "cell_type": "markdown",
   "metadata": {},
   "source": [
    "![](m1.png)"
   ]
  },
  {
   "cell_type": "code",
   "execution_count": 40,
   "metadata": {},
   "outputs": [
    {
     "name": "stdout",
     "output_type": "stream",
     "text": [
      "Exemple du plan miroir dans une maille du cristal\n",
      "L'atome de Na situé en (0.67 0.33 0.33) est envoyé par le plan miroir en [-0.33 -0.67  0.33]\n",
      "La position sur laquelle est envoyée l'atome est située dans la maille ajdacente, par conséquent grâce à la périodicité du cristal, on réobtient le même atome dans la maille initiale\n"
     ]
    }
   ],
   "source": [
    "print('Exemple du plan miroir dans une maille du cristal')\n",
    "print(\"L'atome de Na situé en (0.67 0.33 0.33) est envoyé par le plan miroir en\", m1.operate((0.67,0.33,0.33)))\n",
    "print(\"La position sur laquelle est envoyée l'atome est située dans la maille ajdacente, par conséquent grâce à la périodicité du cristal, on réobtient le même atome dans la maille initiale\")"
   ]
  },
  {
   "cell_type": "markdown",
   "metadata": {},
   "source": [
    "![](mirror.jpg)"
   ]
  },
  {
   "cell_type": "code",
   "execution_count": 16,
   "metadata": {},
   "outputs": [
    {
     "data": {
      "text/markdown": [
       "**Opériation de symétrie : rotation d'ordre 3 définie par (x-y,x,-z)**"
      ],
      "text/plain": [
       "<IPython.core.display.Markdown object>"
      ]
     },
     "metadata": {},
     "output_type": "display_data"
    },
    {
     "name": "stdout",
     "output_type": "stream",
     "text": [
      "Matrice de l'opération de symétrie\n",
      "[[ 1. -1.  0.]\n",
      " [ 1.  0.  0.]\n",
      " [ 0.  0. -1.]]\n",
      "Application de la matrice à un atome de coordonnées (x,y,z)\n"
     ]
    }
   ],
   "source": [
    "printgras(\"**Opériation de symétrie : rotation d'ordre 3 définie par (x-y,x,-z)**\")\n",
    "print(\"Matrice de l'opération de symétrie\")\n",
    "m2 = SymmOp.from_xyz_string('x-y,x,-z')\n",
    "print(m2.rotation_matrix)\n",
    "print('Application de la matrice à un atome de coordonnées (x,y,z)')"
   ]
  },
  {
   "cell_type": "markdown",
   "metadata": {},
   "source": [
    "![](m2.png)"
   ]
  },
  {
   "cell_type": "code",
   "execution_count": 37,
   "metadata": {},
   "outputs": [
    {
     "name": "stdout",
     "output_type": "stream",
     "text": [
      "Exemple de l'axe de rotation d'ordre 3 dans une maille du cristal\n",
      "L'atome de La situé en (0.33 0.67 0.17) est envoyé par rotation en [-0.34  0.33 -0.17]\n",
      "La position sur laquelle est envoyée l'atome est située dans la maille ajdacente, par conséquent grâce à la périodicité du cristal, on obtient l'atome de La en (0.67, 0.33, 0.83) dans notre maille initiale\n"
     ]
    }
   ],
   "source": [
    "print(\"Exemple de l'axe de rotation d'ordre 3 dans une maille du cristal\")\n",
    "print(\"L'atome de La situé en (0.33 0.67 0.17) est envoyé par rotation en\", m2.operate((0.33,0.67,0.17)))\n",
    "print(\"La position sur laquelle est envoyée l'atome est située dans la maille ajdacente, par conséquent grâce à la périodicité du cristal, on obtient l'atome de La en (0.67, 0.33, 0.83) dans notre maille initiale\")"
   ]
  },
  {
   "cell_type": "markdown",
   "metadata": {},
   "source": [
    "![](rot32.jpg)"
   ]
  },
  {
   "cell_type": "code",
   "execution_count": 4,
   "metadata": {},
   "outputs": [
    {
     "data": {
      "text/markdown": [
       "**Opériation de symétrie : translation définie par (x-1/3,y+1/3,z+1/3)**"
      ],
      "text/plain": [
       "<IPython.core.display.Markdown object>"
      ]
     },
     "metadata": {},
     "output_type": "display_data"
    },
    {
     "name": "stdout",
     "output_type": "stream",
     "text": [
      "Matrice de l'opération de symétrie (partie rotationnelle)\n",
      "[[1. 0. 0.]\n",
      " [0. 1. 0.]\n",
      " [0. 0. 1.]]\n",
      "Vecteur de l'opération de symétrie (partie translatoire)\n",
      "[-0.33333333  0.33333333  0.33333333]\n",
      "Application de la matrice à un atome de coordonnées (x,y,z)\n"
     ]
    }
   ],
   "source": [
    "printgras('**Opériation de symétrie : translation définie par (x-1/3,y+1/3,z+1/3)**')\n",
    "print(\"Matrice de l'opération de symétrie (partie rotationnelle)\")\n",
    "m3 = SymmOp.from_xyz_string('x-1/3,y+1/3,z+1/3')\n",
    "print(m3.rotation_matrix)\n",
    "print(\"Vecteur de l'opération de symétrie (partie translatoire)\")\n",
    "print(m3.translation_vector)\n",
    "print('Application de la matrice à un atome de coordonnées (x,y,z)')"
   ]
  },
  {
   "cell_type": "markdown",
   "metadata": {},
   "source": [
    "![](m3.png)"
   ]
  },
  {
   "cell_type": "code",
   "execution_count": 41,
   "metadata": {},
   "outputs": [
    {
     "name": "stdout",
     "output_type": "stream",
     "text": [
      "Exemple de translation dans une maille du cristal\n",
      "L'atome de Na situé en (0.00 0.00 0.00) est envoyé par translation en [-0.33333333  0.33333333  0.33333333]\n",
      "La position sur laquelle est envoyée l'atome est située dans la maille ajdacente, par conséquent grâce à la périodicité du cristal, on obtient l'atome de Na en (0.67, 0.33, 0.33) dans notre maille initiale\n"
     ]
    }
   ],
   "source": [
    "print(\"Exemple de translation dans une maille du cristal\")\n",
    "print(\"L'atome de Na situé en (0.00 0.00 0.00) est envoyé par translation en\", m3.operate((0.00,0.00,0.00)))\n",
    "print(\"La position sur laquelle est envoyée l'atome est située dans la maille ajdacente, par conséquent grâce à la périodicité du cristal, on obtient l'atome de Na en (0.67, 0.33, 0.33) dans notre maille initiale\")"
   ]
  },
  {
   "cell_type": "markdown",
   "metadata": {},
   "source": [
    "![](trans.jpg)"
   ]
  },
  {
   "cell_type": "code",
   "execution_count": null,
   "metadata": {},
   "outputs": [],
   "source": []
  }
 ],
 "metadata": {
  "kernelspec": {
   "display_name": "Python 3",
   "language": "python",
   "name": "python3"
  },
  "language_info": {
   "codemirror_mode": {
    "name": "ipython",
    "version": 3
   },
   "file_extension": ".py",
   "mimetype": "text/x-python",
   "name": "python",
   "nbconvert_exporter": "python",
   "pygments_lexer": "ipython3",
   "version": "3.6.8"
  }
 },
 "nbformat": 4,
 "nbformat_minor": 2
}
